{
 "cells": [
  {
   "cell_type": "code",
   "execution_count": null,
   "metadata": {},
   "outputs": [],
   "source": [
    "%pip install -r requirements.txt"
   ]
  },
  {
   "cell_type": "code",
   "execution_count": 14,
   "metadata": {},
   "outputs": [
    {
     "name": "stdout",
     "output_type": "stream",
     "text": [
      "Submodule path 'PonyGE2': checked out 'f337171708a07e028587ac5ec3537e051691daf7'\n",
      "Requirement already satisfied: numpy in /home/henriquesabino/anaconda3/envs/ice_proj/lib/python3.11/site-packages (from -r ./PonyGE2/requirements.txt (line 1)) (1.26.4)\n",
      "Requirement already satisfied: scipy in /home/henriquesabino/anaconda3/envs/ice_proj/lib/python3.11/site-packages (from -r ./PonyGE2/requirements.txt (line 2)) (1.12.0)\n",
      "Requirement already satisfied: matplotlib in /home/henriquesabino/anaconda3/envs/ice_proj/lib/python3.11/site-packages (from -r ./PonyGE2/requirements.txt (line 3)) (3.8.3)\n",
      "Requirement already satisfied: pandas in /home/henriquesabino/anaconda3/envs/ice_proj/lib/python3.11/site-packages (from -r ./PonyGE2/requirements.txt (line 4)) (2.2.0)\n",
      "Requirement already satisfied: scikit-learn>=0.23.2 in /home/henriquesabino/anaconda3/envs/ice_proj/lib/python3.11/site-packages (from -r ./PonyGE2/requirements.txt (line 5)) (1.4.1.post1)\n",
      "Requirement already satisfied: contourpy>=1.0.1 in /home/henriquesabino/anaconda3/envs/ice_proj/lib/python3.11/site-packages (from matplotlib->-r ./PonyGE2/requirements.txt (line 3)) (1.2.0)\n",
      "Requirement already satisfied: cycler>=0.10 in /home/henriquesabino/anaconda3/envs/ice_proj/lib/python3.11/site-packages (from matplotlib->-r ./PonyGE2/requirements.txt (line 3)) (0.12.1)\n",
      "Requirement already satisfied: fonttools>=4.22.0 in /home/henriquesabino/anaconda3/envs/ice_proj/lib/python3.11/site-packages (from matplotlib->-r ./PonyGE2/requirements.txt (line 3)) (4.49.0)\n",
      "Requirement already satisfied: kiwisolver>=1.3.1 in /home/henriquesabino/anaconda3/envs/ice_proj/lib/python3.11/site-packages (from matplotlib->-r ./PonyGE2/requirements.txt (line 3)) (1.4.5)\n",
      "Requirement already satisfied: packaging>=20.0 in /home/henriquesabino/anaconda3/envs/ice_proj/lib/python3.11/site-packages (from matplotlib->-r ./PonyGE2/requirements.txt (line 3)) (23.2)\n",
      "Requirement already satisfied: pillow>=8 in /home/henriquesabino/anaconda3/envs/ice_proj/lib/python3.11/site-packages (from matplotlib->-r ./PonyGE2/requirements.txt (line 3)) (10.2.0)\n",
      "Requirement already satisfied: pyparsing>=2.3.1 in /home/henriquesabino/anaconda3/envs/ice_proj/lib/python3.11/site-packages (from matplotlib->-r ./PonyGE2/requirements.txt (line 3)) (3.1.1)\n",
      "Requirement already satisfied: python-dateutil>=2.7 in /home/henriquesabino/anaconda3/envs/ice_proj/lib/python3.11/site-packages (from matplotlib->-r ./PonyGE2/requirements.txt (line 3)) (2.8.2)\n",
      "Requirement already satisfied: pytz>=2020.1 in /home/henriquesabino/anaconda3/envs/ice_proj/lib/python3.11/site-packages (from pandas->-r ./PonyGE2/requirements.txt (line 4)) (2024.1)\n",
      "Requirement already satisfied: tzdata>=2022.7 in /home/henriquesabino/anaconda3/envs/ice_proj/lib/python3.11/site-packages (from pandas->-r ./PonyGE2/requirements.txt (line 4)) (2024.1)\n",
      "Requirement already satisfied: joblib>=1.2.0 in /home/henriquesabino/anaconda3/envs/ice_proj/lib/python3.11/site-packages (from scikit-learn>=0.23.2->-r ./PonyGE2/requirements.txt (line 5)) (1.3.2)\n",
      "Requirement already satisfied: threadpoolctl>=2.0.0 in /home/henriquesabino/anaconda3/envs/ice_proj/lib/python3.11/site-packages (from scikit-learn>=0.23.2->-r ./PonyGE2/requirements.txt (line 5)) (3.3.0)\n",
      "Requirement already satisfied: six>=1.5 in /home/henriquesabino/anaconda3/envs/ice_proj/lib/python3.11/site-packages (from python-dateutil>=2.7->matplotlib->-r ./PonyGE2/requirements.txt (line 3)) (1.16.0)\n",
      "Note: you may need to restart the kernel to use updated packages.\n"
     ]
    }
   ],
   "source": [
    "!git submodule update --recursive"
   ]
  },
  {
   "cell_type": "code",
   "execution_count": null,
   "metadata": {},
   "outputs": [],
   "source": [
    "import os\n",
    "\n",
    "word2vec_path = \"./embeddings/word2vec_model.txt\"\n",
    "\n",
    "if os.path.exists(word2vec_path):\n",
    "    import gensim.downloader as api\n",
    "\n",
    "    wv = api.load(\"word2vec-google-news-300\")\n",
    "    wv.save_word2vec_format(word2vec_path, binary=False)"
   ]
  },
  {
   "cell_type": "code",
   "execution_count": 30,
   "metadata": {},
   "outputs": [
    {
     "name": "stdout",
     "output_type": "stream",
     "text": [
      "^C\n"
     ]
    },
    {
     "data": {
      "text/plain": [
       "[]"
      ]
     },
     "execution_count": 30,
     "metadata": {},
     "output_type": "execute_result"
    }
   ],
   "source": [
    "import shutil\n",
    "import os\n",
    "import glob\n",
    "\n",
    "def run_experiment():\n",
    "\n",
    "    files = glob.glob(r'./fitness/*.py')\n",
    "    file_names = [x.split('/')[-1] for x in files]\n",
    "\n",
    "    for file in file_names:\n",
    "        shutil.copy(f'./fitness/{file}', \"./PonyGE2/src/fitness/\")\n",
    "\n",
    "    captured = !cd ./PonyGE2/src && python ponyge.py --parameters ../../parameters/scorer.txt\n",
    "\n",
    "    for file in file_names:\n",
    "        os.remove(f\"./PonyGE2/src/fitness/{file}\")\n",
    "    \n",
    "    return captured\n",
    "run_experiment()"
   ]
  }
 ],
 "metadata": {
  "kernelspec": {
   "display_name": "Python 3",
   "language": "python",
   "name": "python3"
  },
  "language_info": {
   "codemirror_mode": {
    "name": "ipython",
    "version": 3
   },
   "file_extension": ".py",
   "mimetype": "text/x-python",
   "name": "python",
   "nbconvert_exporter": "python",
   "pygments_lexer": "ipython3",
   "version": "3.11.7"
  }
 },
 "nbformat": 4,
 "nbformat_minor": 2
}
